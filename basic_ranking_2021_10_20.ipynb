{
  "nbformat": 4,
  "nbformat_minor": 0,
  "metadata": {
    "colab": {
      "name": "basic_ranking 2021 10 20.ipynb",
      "private_outputs": true,
      "provenance": [],
      "collapsed_sections": [],
      "include_colab_link": true
    },
    "kernelspec": {
      "display_name": "Python 3",
      "language": "python",
      "name": "python3"
    },
    "language_info": {
      "codemirror_mode": {
        "name": "ipython",
        "version": 3
      },
      "file_extension": ".py",
      "mimetype": "text/x-python",
      "name": "python",
      "nbconvert_exporter": "python",
      "pygments_lexer": "ipython3",
      "version": "3.7.5"
    }
  },
  "cells": [
    {
      "cell_type": "markdown",
      "metadata": {
        "id": "view-in-github",
        "colab_type": "text"
      },
      "source": [
        "<a href=\"https://colab.research.google.com/github/hai105178362/blogs/blob/main/basic_ranking_2021_10_20.ipynb\" target=\"_parent\"><img src=\"https://colab.research.google.com/assets/colab-badge.svg\" alt=\"Open In Colab\"/></a>"
      ]
    },
    {
      "cell_type": "markdown",
      "metadata": {
        "id": "X80i_girFR2o"
      },
      "source": [
        "##### Copyright 2020 The TensorFlow Authors."
      ]
    },
    {
      "cell_type": "code",
      "metadata": {
        "cellView": "form",
        "execution": {
          "iopub.execute_input": "2021-10-02T11:04:18.688277Z",
          "iopub.status.busy": "2021-10-02T11:04:18.687567Z",
          "iopub.status.idle": "2021-10-02T11:04:18.689951Z",
          "shell.execute_reply": "2021-10-02T11:04:18.690331Z"
        },
        "id": "bB8gHCR3FVC0"
      },
      "source": [
        "#@title Licensed under the Apache License, Version 2.0 (the \"License\");\n",
        "# you may not use this file except in compliance with the License.\n",
        "# You may obtain a copy of the License at\n",
        "#\n",
        "# https://www.apache.org/licenses/LICENSE-2.0\n",
        "#\n",
        "# Unless required by applicable law or agreed to in writing, software\n",
        "# distributed under the License is distributed on an \"AS IS\" BASIS,\n",
        "# WITHOUT WARRANTIES OR CONDITIONS OF ANY KIND, either express or implied.\n",
        "# See the License for the specific language governing permissions and\n",
        "# limitations under the License."
      ],
      "execution_count": null,
      "outputs": []
    },
    {
      "cell_type": "markdown",
      "metadata": {
        "id": "kCeYA79m1DEX"
      },
      "source": [
        "# Recommending movies: ranking\n",
        "\n",
        "<table class=\"tfo-notebook-buttons\" align=\"left\">\n",
        "  <td>\n",
        "    <a target=\"_blank\" href=\"https://www.tensorflow.org/recommenders/examples/basic_ranking\"><img src=\"https://www.tensorflow.org/images/tf_logo_32px.png\" />View on TensorFlow.org</a>\n",
        "  </td>\n",
        "  <td>\n",
        "    <a target=\"_blank\" href=\"https://colab.research.google.com/github/tensorflow/recommenders/blob/main/docs/examples/basic_ranking.ipynb\"><img src=\"https://www.tensorflow.org/images/colab_logo_32px.png\" />Run in Google Colab</a>\n",
        "  </td>\n",
        "  <td>\n",
        "    <a target=\"_blank\" href=\"https://github.com/tensorflow/recommenders/blob/main/docs/examples/basic_ranking.ipynb\"><img src=\"https://www.tensorflow.org/images/GitHub-Mark-32px.png\" />View source on GitHub</a>\n",
        "  </td>\n",
        "  <td>\n",
        "    <a href=\"https://storage.googleapis.com/tensorflow_docs/recommenders/docs/examples/basic_ranking.ipynb\"><img src=\"https://www.tensorflow.org/images/download_logo_32px.png\" />Download notebook</a>\n",
        "  </td>\n",
        "</table>\n",
        "\n"
      ]
    },
    {
      "cell_type": "markdown",
      "metadata": {
        "id": "gf2jMHkZQYB5"
      },
      "source": [
        "Real-world recommender systems are often composed of two stages:\n",
        "\n",
        "1. The retrieval stage is responsible for selecting an initial set of hundreds of candidates from all possible candidates. The main objective of this model is to efficiently weed out all candidates that the user is not interested in. Because the retrieval model may be dealing with millions of candidates, it has to be computationally efficient.\n",
        "2. The ranking stage takes the outputs of the retrieval model and fine-tunes them to select the best possible handful of recommendations. Its task is to narrow down the set of items the user may be interested in to a shortlist of likely candidates.\n",
        "\n",
        "We're going to focus on the second stage, ranking. If you are interested in the retrieval stage, have a look at our [retrieval](basic_retrieval) tutorial.\n",
        "\n",
        "In this tutorial, we're going to:\n",
        "\n",
        "1. Get our data and split it into a training and test set.\n",
        "2. Implement a ranking model.\n",
        "3. Fit and evaluate it.\n",
        "\n",
        "\n",
        "## Imports\n",
        "\n",
        "\n",
        "Let's first get our imports out of the way."
      ]
    },
    {
      "cell_type": "code",
      "metadata": {
        "execution": {
          "iopub.execute_input": "2021-10-02T11:04:18.702215Z",
          "iopub.status.busy": "2021-10-02T11:04:18.701517Z",
          "iopub.status.idle": "2021-10-02T11:04:22.054621Z",
          "shell.execute_reply": "2021-10-02T11:04:22.054023Z"
        },
        "id": "9gG3jLOGbaUv"
      },
      "source": [
        "!pip install -q tensorflow-recommenders\n",
        "!pip install -q --upgrade tensorflow-datasets"
      ],
      "execution_count": null,
      "outputs": []
    },
    {
      "cell_type": "code",
      "metadata": {
        "execution": {
          "iopub.execute_input": "2021-10-02T11:04:22.060445Z",
          "iopub.status.busy": "2021-10-02T11:04:22.059737Z",
          "iopub.status.idle": "2021-10-02T11:04:24.300564Z",
          "shell.execute_reply": "2021-10-02T11:04:24.299959Z"
        },
        "id": "SZGYDaF-m5wZ"
      },
      "source": [
        "import os\n",
        "import pprint\n",
        "import tempfile\n",
        "import random\n",
        "\n",
        "from typing import Dict, Text\n",
        "\n",
        "import numpy as np\n",
        "import tensorflow as tf\n",
        "import tensorflow_datasets as tfds"
      ],
      "execution_count": null,
      "outputs": []
    },
    {
      "cell_type": "code",
      "metadata": {
        "execution": {
          "iopub.execute_input": "2021-10-02T11:04:24.305432Z",
          "iopub.status.busy": "2021-10-02T11:04:24.304780Z",
          "iopub.status.idle": "2021-10-02T11:04:24.426076Z",
          "shell.execute_reply": "2021-10-02T11:04:24.425478Z"
        },
        "id": "BxQ_hy7xPH3N"
      },
      "source": [
        "import tensorflow_recommenders as tfrs"
      ],
      "execution_count": null,
      "outputs": []
    },
    {
      "cell_type": "markdown",
      "metadata": {
        "id": "5PAqjR4a1RR4"
      },
      "source": [
        "## Preparing the dataset\n",
        "\n",
        "We're going to use the same data as the [retrieval](basic_retrieval) tutorial. This time, we're also going to keep the ratings: these are the objectives we are trying to predict."
      ]
    },
    {
      "cell_type": "code",
      "metadata": {
        "execution": {
          "iopub.execute_input": "2021-10-02T11:04:24.431720Z",
          "iopub.status.busy": "2021-10-02T11:04:24.431031Z",
          "iopub.status.idle": "2021-10-02T11:04:25.495102Z",
          "shell.execute_reply": "2021-10-02T11:04:25.495555Z"
        },
        "id": "aaQhqcLGP0jL"
      },
      "source": [
        "ratings = tfds.load(\"movielens/100k-ratings\", split=\"train\")\n",
        "\n",
        "ratings = ratings.map(lambda x: {\n",
        "    \"item_id\": x[\"movie_title\"],\n",
        "    \"item_name\": x[\"movie_title\"],\n",
        "    \"item_desc\": x[\"movie_title\"],\n",
        "    \"item_price\": random.choice(range(9999, 13999)),\n",
        "    \"user_id\": x[\"user_id\"],\n",
        "    \"user_sex\": random.choice([\"male\",\"female\"]),\n",
        "    \"user_age\": random.choice(range(1, 99)),\n",
        "    \"user_rating\": x[\"user_rating\"],\n",
        "    \"timestamp\": x[\"timestamp\"]\n",
        "})"
      ],
      "execution_count": null,
      "outputs": []
    },
    {
      "cell_type": "markdown",
      "metadata": {
        "id": "Iu4XSa_G1nyN"
      },
      "source": [
        "As before, we'll split the data by putting 80% of the ratings in the train set, and 20% in the test set."
      ]
    },
    {
      "cell_type": "code",
      "metadata": {
        "execution": {
          "iopub.execute_input": "2021-10-02T11:04:25.501240Z",
          "iopub.status.busy": "2021-10-02T11:04:25.500623Z",
          "iopub.status.idle": "2021-10-02T11:04:25.505174Z",
          "shell.execute_reply": "2021-10-02T11:04:25.504705Z"
        },
        "id": "rS0eDfkjnjJL"
      },
      "source": [
        "tf.random.set_seed(42)\n",
        "shuffled = ratings.shuffle(100_000, seed=42, reshuffle_each_iteration=False)\n",
        "\n",
        "train = shuffled.take(80_000)\n",
        "test = shuffled.skip(80_000).take(20_000)"
      ],
      "execution_count": null,
      "outputs": []
    },
    {
      "cell_type": "markdown",
      "metadata": {
        "id": "gVi1HJfR9D7H"
      },
      "source": [
        "Let's also figure out unique user ids and movie titles present in the data. \n",
        "\n",
        "This is important because we need to be able to map the raw values of our categorical features to embedding vectors in our models. To do that, we need a vocabulary that maps a raw feature value to an integer in a contiguous range: this allows us to look up the corresponding embeddings in our embedding tables."
      ]
    },
    {
      "cell_type": "code",
      "metadata": {
        "execution": {
          "iopub.execute_input": "2021-10-02T11:04:25.511163Z",
          "iopub.status.busy": "2021-10-02T11:04:25.510508Z",
          "iopub.status.idle": "2021-10-02T11:04:33.056269Z",
          "shell.execute_reply": "2021-10-02T11:04:33.056686Z"
        },
        "id": "MKROCiPo_5LJ"
      },
      "source": [
        "item_ids = ratings.batch(1_000_000).map(lambda x: x[\"item_id\"])\n",
        "user_ids = ratings.batch(1_000_000).map(lambda x: x[\"user_id\"])\n",
        "\n",
        "unique_item_ids = np.unique(np.concatenate(list(item_ids)))\n",
        "unique_user_ids = np.unique(np.concatenate(list(user_ids)))"
      ],
      "execution_count": null,
      "outputs": []
    },
    {
      "cell_type": "code",
      "metadata": {
        "id": "LKX0wfxH0A7G"
      },
      "source": [
        "timestamps = np.concatenate(list(ratings.map(lambda x: x[\"timestamp\"]).batch(100)))\n",
        "item_prices = np.concatenate(list(ratings.map(lambda x: x[\"item_price\"]).batch(100)))\n",
        "\n",
        "max_timestamp = timestamps.max()\n",
        "min_timestamp = timestamps.min()\n",
        "\n",
        "timestamp_buckets = np.linspace(\n",
        "    min_timestamp, max_timestamp, num=1000,\n",
        ")\n",
        "\n",
        "item_descs= ratings.map(lambda x: x[\"item_desc\"])"
      ],
      "execution_count": null,
      "outputs": []
    },
    {
      "cell_type": "markdown",
      "metadata": {
        "id": "4-Vj9nHb48pn"
      },
      "source": [
        "## Implementing a model"
      ]
    },
    {
      "cell_type": "markdown",
      "metadata": {
        "id": "eCi-seR86qqa"
      },
      "source": [
        "### Architecture\n",
        "\n",
        "Ranking models do not face the same efficiency constraints as retrieval models do, and so we have a little bit more freedom in our choice of architectures.\n",
        "\n",
        "A model composed of multiple stacked dense layers is a relatively common architecture for ranking tasks. We can implement it as follows:"
      ]
    },
    {
      "cell_type": "code",
      "metadata": {
        "execution": {
          "iopub.execute_input": "2021-10-02T11:04:33.065078Z",
          "iopub.status.busy": "2021-10-02T11:04:33.064465Z",
          "iopub.status.idle": "2021-10-02T11:04:33.066635Z",
          "shell.execute_reply": "2021-10-02T11:04:33.066182Z"
        },
        "id": "fAk0y0Yf1eGh"
      },
      "source": [
        "class RankingModel(tf.keras.Model):\n",
        "\n",
        "  def __init__(self, layer_sizes):\n",
        "    super().__init__()\n",
        "    embedding_dimension = 32\n",
        "    max_tokens  = 10000\n",
        "\n",
        "    # Compute embeddings for users.\n",
        "    self.user_embeddings = tf.keras.Sequential([\n",
        "      tf.keras.layers.StringLookup(\n",
        "        vocabulary=unique_user_ids, mask_token=None),\n",
        "      tf.keras.layers.Embedding(len(unique_user_ids) + 1, embedding_dimension)\n",
        "    ])\n",
        "\n",
        "    self.sex_embeddings = tf.keras.Sequential([\n",
        "        tf.keras.layers.StringLookup(\n",
        "            vocabulary=[\"male\",\"female\"], mask_token=None),\n",
        "        tf.keras.layers.Embedding(len([\"male\",\"female\"]) + 1, embedding_dimension),\n",
        "    ])\n",
        "\n",
        "    #年龄分成几段\n",
        "    self.age_embeddings = tf.keras.Sequential([\n",
        "        tf.keras.layers.Discretization(bin_boundaries=[0., 3., 14., 18., 40., 55., 65.,130.]),\n",
        "        tf.keras.layers.Embedding(len([0., 3., 14., 18., 40., 55., 65.,130.]) + 1, embedding_dimension),\n",
        "    ])\n",
        "\n",
        "    self.timestamp_embedding = tf.keras.Sequential([\n",
        "        tf.keras.layers.Discretization(timestamp_buckets.tolist()),\n",
        "        tf.keras.layers.Embedding(len(timestamp_buckets) + 1, embedding_dimension),\n",
        "    ])\n",
        "\n",
        "    # self.normalized_timestamp = tf.keras.layers.Normalization(\n",
        "    #     axis=None\n",
        "    # )\n",
        "\n",
        "    # self.normalized_timestamp.adapt(timestamps)\n",
        "\n",
        "    # Compute embeddings for movies.\n",
        "    self.item_embeddings = tf.keras.Sequential([\n",
        "      tf.keras.layers.StringLookup(\n",
        "        vocabulary=unique_item_ids, mask_token=None),\n",
        "      tf.keras.layers.Embedding(len(unique_item_ids) + 1, embedding_dimension)\n",
        "    ])\n",
        "\n",
        "    self.desc_vectorizer = tf.keras.layers.TextVectorization(\n",
        "        max_tokens=max_tokens)\n",
        "\n",
        "    self.desc_text_embedding = tf.keras.Sequential([\n",
        "      self.desc_vectorizer,\n",
        "      tf.keras.layers.Embedding(max_tokens, embedding_dimension, mask_zero=True),\n",
        "      tf.keras.layers.GlobalAveragePooling1D(),\n",
        "    ])\n",
        "\n",
        "    self.desc_vectorizer.adapt(item_descs)\n",
        "\n",
        "    self.normalized_price = tf.keras.layers.Normalization(\n",
        "        axis=None\n",
        "    )\n",
        "\n",
        "    self.normalized_price.adapt(item_prices)\n",
        "\n",
        "  #   # Compute predictions.\n",
        "  #   self.ratings = tf.keras.Sequential([\n",
        "  #     # Learn multiple dense layers.\n",
        "  #     tf.keras.layers.Dense(256, activation=\"relu\"),\n",
        "  #     tf.keras.layers.Dense(64, activation=\"relu\"),\n",
        "  #     # Make rating predictions in the final layer.\n",
        "  #     tf.keras.layers.Dense(1)\n",
        "  # ])\n",
        "    # Then construct the layers.\n",
        "    self.ratings = tf.keras.Sequential()\n",
        "\n",
        "    # Use the ReLU activation for all but the last layer.\n",
        "    for layer_size in layer_sizes:\n",
        "      self.ratings.add(tf.keras.layers.Dense(layer_size, activation=\"relu\"))\n",
        "    # No activation for the last layer.\n",
        "    self.ratings.add(tf.keras.layers.Dense(1))  \n",
        "  def call(self, inputs):\n",
        "\n",
        "    user_id, user_sex,user_age, item_id,item_desc, item_price, timestamp = inputs\n",
        "\n",
        "    user_embedding = self.user_embeddings(user_id)\n",
        "    sex_embedding = self.sex_embeddings(user_sex)\n",
        "    age_embedding = self.age_embeddings(user_age)\n",
        "    item_embedding = self.item_embeddings(item_id)\n",
        "    desc_text_embedding = self.desc_text_embedding(item_desc)\n",
        "    price_embedding = tf.reshape(self.normalized_price(item_price), (-1, 1))\n",
        "    timestamp_embedding = self.timestamp_embedding(timestamp)\n",
        "\n",
        "    return self.ratings(tf.concat([user_embedding, sex_embedding, age_embedding, item_embedding,desc_text_embedding, timestamp_embedding], axis=1))"
      ],
      "execution_count": null,
      "outputs": []
    },
    {
      "cell_type": "markdown",
      "metadata": {
        "id": "g76wZt-s2WmS"
      },
      "source": [
        "This model takes user ids and movie titles, and outputs a predicted rating:"
      ]
    },
    {
      "cell_type": "code",
      "metadata": {
        "execution": {
          "iopub.execute_input": "2021-10-02T11:04:33.071147Z",
          "iopub.status.busy": "2021-10-02T11:04:33.070536Z",
          "iopub.status.idle": "2021-10-02T11:04:33.131061Z",
          "shell.execute_reply": "2021-10-02T11:04:33.131487Z"
        },
        "id": "YVxiAsRE2I8J"
      },
      "source": [
        "RankingModel([256,64])((\n",
        "    np.array([\"42\"]),\n",
        "    np.array([\"female\"]),\n",
        "    np.array([22]),\n",
        "    np.array([\"One Flew Over the Cuckoo's Nest (1975)\"]),\n",
        "    np.array([\"One Flew Over the Cuckoo's Nest (1975)\"]), \n",
        "    np.array([9999]),\n",
        "    np.array([1198090049])\n",
        "     ))"
      ],
      "execution_count": null,
      "outputs": []
    },
    {
      "cell_type": "markdown",
      "metadata": {
        "id": "nCaCqJsXSkCo"
      },
      "source": [
        "### Loss and metrics\n",
        "\n",
        "The next component is the loss used to train our model. TFRS has several loss layers and tasks to make this easy.\n",
        "\n",
        "In this instance, we'll make use of the `Ranking` task object: a convenience wrapper that bundles together the loss function and metric computation. \n",
        "\n",
        "We'll use it together with the `MeanSquaredError` Keras loss in order to predict the ratings."
      ]
    },
    {
      "cell_type": "code",
      "metadata": {
        "execution": {
          "iopub.execute_input": "2021-10-02T11:04:33.137260Z",
          "iopub.status.busy": "2021-10-02T11:04:33.136686Z",
          "iopub.status.idle": "2021-10-02T11:04:33.140932Z",
          "shell.execute_reply": "2021-10-02T11:04:33.141289Z"
        },
        "id": "tJ61Iz2QTBw3"
      },
      "source": [
        "task = tfrs.tasks.Ranking(\n",
        "  loss = tf.keras.losses.MeanSquaredError(),\n",
        "  metrics=[tf.keras.metrics.RootMeanSquaredError()]\n",
        ")"
      ],
      "execution_count": null,
      "outputs": []
    },
    {
      "cell_type": "markdown",
      "metadata": {
        "id": "9-3xFC-1cbz0"
      },
      "source": [
        "The task itself is a Keras layer that takes true and predicted as arguments, and returns the computed loss. We'll use that to implement the model's training loop."
      ]
    },
    {
      "cell_type": "markdown",
      "metadata": {
        "id": "FZUFeSlWRHGx"
      },
      "source": [
        "### The full model\n",
        "\n",
        "We can now put it all together into a model. TFRS exposes a base model class (`tfrs.models.Model`) which streamlines bulding models: all we need to do is to set up the components in the `__init__` method, and implement the `compute_loss` method, taking in the raw features and returning a loss value.\n",
        "\n",
        "The base model will then take care of creating the appropriate training loop to fit our model."
      ]
    },
    {
      "cell_type": "code",
      "metadata": {
        "execution": {
          "iopub.execute_input": "2021-10-02T11:04:33.148219Z",
          "iopub.status.busy": "2021-10-02T11:04:33.147574Z",
          "iopub.status.idle": "2021-10-02T11:04:33.149239Z",
          "shell.execute_reply": "2021-10-02T11:04:33.149639Z"
        },
        "id": "8n7c5CHFp0ow"
      },
      "source": [
        "class MovielensModel(tfrs.models.Model):\n",
        "\n",
        "  def __init__(self, layer_sizes):\n",
        "    super().__init__()\n",
        "    self.ranking_model: tf.keras.Model = RankingModel(layer_sizes)\n",
        "    self.task: tf.keras.layers.Layer = tfrs.tasks.Ranking(\n",
        "      loss = tf.keras.losses.MeanSquaredError(),\n",
        "      metrics=[tf.keras.metrics.RootMeanSquaredError()]\n",
        "    )\n",
        "\n",
        "\n",
        "  def compute_loss(self, features: Dict[Text, tf.Tensor], training=False) -> tf.Tensor:\n",
        "    #labels = features.pop(\"user_rating\")\n",
        "    \n",
        "    rating_predictions = self.ranking_model(\n",
        "        (features[\"user_id\"],features[\"user_sex\"],features[\"user_age\"], features[\"item_id\"],features[\"item_desc\"],features[\"item_price\"], features[\"timestamp\"]))\n",
        "\n",
        "    # The task computes the loss and the metrics.\n",
        "    return self.task(labels=features[\"user_rating\"], predictions=rating_predictions)"
      ],
      "execution_count": null,
      "outputs": []
    },
    {
      "cell_type": "markdown",
      "metadata": {
        "id": "yDN_LJGlnRGo"
      },
      "source": [
        "## Fitting and evaluating\n",
        "\n",
        "After defining the model, we can use standard Keras fitting and evaluation routines to fit and evaluate the model.\n",
        "\n",
        "Let's first instantiate the model."
      ]
    },
    {
      "cell_type": "code",
      "metadata": {
        "execution": {
          "iopub.execute_input": "2021-10-02T11:04:33.154400Z",
          "iopub.status.busy": "2021-10-02T11:04:33.153804Z",
          "iopub.status.idle": "2021-10-02T11:04:33.178310Z",
          "shell.execute_reply": "2021-10-02T11:04:33.177821Z"
        },
        "id": "aW63YaqP2wCf"
      },
      "source": [
        "model = MovielensModel([256,64])\n",
        "model.compile(optimizer=tf.keras.optimizers.Adagrad(learning_rate=0.1))"
      ],
      "execution_count": null,
      "outputs": []
    },
    {
      "cell_type": "markdown",
      "metadata": {
        "id": "Nma0vc2XdN5g"
      },
      "source": [
        "Then shuffle, batch, and cache the training and evaluation data."
      ]
    },
    {
      "cell_type": "code",
      "metadata": {
        "execution": {
          "iopub.execute_input": "2021-10-02T11:04:33.182728Z",
          "iopub.status.busy": "2021-10-02T11:04:33.182081Z",
          "iopub.status.idle": "2021-10-02T11:04:33.186005Z",
          "shell.execute_reply": "2021-10-02T11:04:33.185599Z"
        },
        "id": "53QJwY1gUnfv"
      },
      "source": [
        "cached_train = train.shuffle(100_000).batch(8192).cache()\n",
        "cached_test = test.batch(4096).cache()"
      ],
      "execution_count": null,
      "outputs": []
    },
    {
      "cell_type": "markdown",
      "metadata": {
        "id": "u8mHTxKAdTJO"
      },
      "source": [
        "Then train the  model:"
      ]
    },
    {
      "cell_type": "code",
      "metadata": {
        "execution": {
          "iopub.execute_input": "2021-10-02T11:04:33.190853Z",
          "iopub.status.busy": "2021-10-02T11:04:33.190277Z",
          "iopub.status.idle": "2021-10-02T11:04:35.901998Z",
          "shell.execute_reply": "2021-10-02T11:04:35.902392Z"
        },
        "id": "ZxPntlT8EFOZ"
      },
      "source": [
        "model.fit(cached_train, epochs=3)"
      ],
      "execution_count": null,
      "outputs": []
    },
    {
      "cell_type": "markdown",
      "metadata": {
        "id": "YsluR8audV9W"
      },
      "source": [
        "As the model trains, the loss is falling and the RMSE metric is improving."
      ]
    },
    {
      "cell_type": "markdown",
      "metadata": {
        "id": "7Gxp5RLFcv64"
      },
      "source": [
        "Finally, we can evaluate our model on the test set:"
      ]
    },
    {
      "cell_type": "code",
      "metadata": {
        "execution": {
          "iopub.execute_input": "2021-10-02T11:04:35.908187Z",
          "iopub.status.busy": "2021-10-02T11:04:35.907456Z",
          "iopub.status.idle": "2021-10-02T11:04:37.518500Z",
          "shell.execute_reply": "2021-10-02T11:04:37.517981Z"
        },
        "id": "W-zu6HLODNeI"
      },
      "source": [
        "model.evaluate(cached_test, return_dict=True)"
      ],
      "execution_count": null,
      "outputs": []
    },
    {
      "cell_type": "markdown",
      "metadata": {
        "id": "JKZyP9A1dxit"
      },
      "source": [
        "The lower the RMSE metric, the more accurate our model is at predicting ratings."
      ]
    },
    {
      "cell_type": "markdown",
      "metadata": {
        "id": "hcK4WKmKTE3A"
      },
      "source": [
        "## Testing the ranking model\n",
        "\n",
        "Now we can test the ranking model by computing predictions for a set of movies and then rank these movies based on the predictions:\n"
      ]
    },
    {
      "cell_type": "code",
      "metadata": {
        "id": "WrCWAIbMp9fS"
      },
      "source": [
        "class ModelAbc(tf.keras.Model):\n",
        "    def __init__(self, rank_model : tf.keras.Model):\n",
        "      super().__init__()\n",
        "      self.rank_model = rank_model\n",
        "    def call(self,features: Dict[str, tf.Tensor]):\n",
        "     return self.rank_model.ranking_model(\n",
        "        (features[\"user_id\"],features[\"user_sex\"],features[\"user_age\"], features[\"item_id\"],features[\"item_desc\"],features[\"item_price\"], features[\"timestamp\"]))"
      ],
      "execution_count": null,
      "outputs": []
    },
    {
      "cell_type": "code",
      "metadata": {
        "execution": {
          "iopub.execute_input": "2021-10-02T11:04:37.544928Z",
          "iopub.status.busy": "2021-10-02T11:04:37.544230Z",
          "iopub.status.idle": "2021-10-02T11:04:38.959035Z",
          "shell.execute_reply": "2021-10-02T11:04:38.958443Z"
        },
        "id": "qjLDKn5VZqm8"
      },
      "source": [
        "modelAbc = ModelAbc(model)\n",
        "test_ratings = {}\n",
        "test_movie_titles = [\"M*A*S*H (1970)\", \"Dances with Wolves (1990)\", \"Speed (1994)\"]\n",
        "for movie_title in test_movie_titles:\n",
        "  test_ratings[movie_title] = modelAbc({\n",
        "      \"user_id\": np.array([\"42\"]),\n",
        "      \"item_id\": np.array([movie_title]),\n",
        "      \"item_desc\": np.array([movie_title]),\n",
        "      \"user_sex\": np.array([\"female\"]),\n",
        "      \"user_age\": np.array([22]),\n",
        "      \"item_price\": np.array([10999]),\n",
        "      \"timestamp\": np.array([1198090049])\n",
        "  })\n",
        "\n",
        "print(\"Ratings:\")\n",
        "for title, score in sorted(test_ratings.items(), key=lambda x: x[1], reverse=True):\n",
        "  print(f\"{title}: {score}\")\n"
      ],
      "execution_count": null,
      "outputs": []
    },
    {
      "cell_type": "markdown",
      "metadata": {
        "id": "hfedFnhBZiGw"
      },
      "source": [
        "## Exporting for serving\n",
        "\n",
        "The model can be easily exported for serving:\n"
      ]
    },
    {
      "cell_type": "code",
      "metadata": {
        "id": "8LEiN6Jfsi63"
      },
      "source": [
        "path = os.path.join(\"/content/sample_data\", \"model\")\n",
        "tf.saved_model.save(modelAbc, path)"
      ],
      "execution_count": null,
      "outputs": []
    },
    {
      "cell_type": "markdown",
      "metadata": {
        "id": "sia3ezFPZy1v"
      },
      "source": [
        "We can now load it back and perform predictions:"
      ]
    },
    {
      "cell_type": "code",
      "metadata": {
        "execution": {
          "iopub.execute_input": "2021-10-02T11:04:38.978884Z",
          "iopub.status.busy": "2021-10-02T11:04:38.969679Z",
          "iopub.status.idle": "2021-10-02T11:04:39.636999Z",
          "shell.execute_reply": "2021-10-02T11:04:39.637378Z"
        },
        "id": "owetAuj0Z1ny"
      },
      "source": [
        "loaded = tf.saved_model.load(path)\n",
        "\n",
        "loaded({\n",
        "      \"user_id\": np.array([\"42\"]),\n",
        "      \"item_id\": [movie_title],\n",
        "      \"item_desc\": [movie_title],\n",
        "      \"user_sex\": np.array([\"female\"]),\n",
        "      \"user_age\": np.array([22]),\n",
        "      \"item_price\": np.array([10999]),\n",
        "      \"timestamp\": np.array([1198090049])\n",
        "  }).numpy()"
      ],
      "execution_count": null,
      "outputs": []
    },
    {
      "cell_type": "markdown",
      "metadata": {
        "id": "efApI0Ii6srB"
      },
      "source": [
        "## Next steps\n",
        "\n",
        "The model above gives us a decent start towards building a ranking system.\n",
        "\n",
        "Of course, making a practical ranking system requires much more effort.\n",
        "\n",
        "In most cases, a ranking model can be substantially improved by using more features rather than just user and candidate identifiers. To see how to do that, have a look at the [side features](featurization) tutorial.\n",
        "\n",
        "A careful understanding of the objectives worth optimizing is also necessary. To get started on building a recommender that optimizes multiple objectives, have a look at our [multitask](multitask) tutorial."
      ]
    }
  ]
}